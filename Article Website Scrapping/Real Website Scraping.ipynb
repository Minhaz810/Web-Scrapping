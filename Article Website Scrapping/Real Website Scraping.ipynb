{
 "cells": [
  {
   "cell_type": "code",
   "execution_count": 2,
   "id": "ebd25bee",
   "metadata": {},
   "outputs": [],
   "source": [
    "import bs4\n",
    "import os\n",
    "import requests\n",
    "import csv"
   ]
  },
  {
   "cell_type": "code",
   "execution_count": 4,
   "id": "52454bb1",
   "metadata": {},
   "outputs": [],
   "source": [
    "source=requests.get('https://coreyms.com/').text"
   ]
  },
  {
   "cell_type": "code",
   "execution_count": 92,
   "id": "ff2f92f4",
   "metadata": {},
   "outputs": [
    {
     "data": {
      "text/plain": [
       "29"
      ]
     },
     "execution_count": 92,
     "metadata": {},
     "output_type": "execute_result"
    }
   ],
   "source": [
    "soup=bs4.BeautifulSoup(source,'lxml')\n",
    "csv_file = open('rongon.csv','w')\n",
    "csv_writer=csv.writer(csv_file)\n",
    "csv_writer.writerow(['Headline','Summary','Video_link'])"
   ]
  },
  {
   "cell_type": "code",
   "execution_count": 94,
   "id": "5bc74a7e",
   "metadata": {},
   "outputs": [
    {
     "name": "stdout",
     "output_type": "stream",
     "text": [
      "Python Tutorial: Zip Files – Creating and Extracting Zip Archives\n",
      "\n",
      "In this video, we will be learning how to create and extract zip archives. We will start by using the zipfile module, and then we will see how to do this using the shutil module. We will learn how to do this with single files and directories, as well as learning how to use gzip as well. Let’s get started…\n",
      "\n",
      "Youtube:https://www.youtube.com/watch?v=z0gguhEmWiY\n",
      "\n",
      "\n",
      "Python Data Science Tutorial: Analyzing the 2019 Stack Overflow Developer Survey\n",
      "\n",
      "In this Python Programming video, we will be learning how to download and analyze real-world data from the 2019 Stack Overflow Developer Survey. This is terrific practice for anyone getting into the data science field. We will learn different ways to analyze this data and also some best practices. Let’s get started…\n",
      "\n",
      "Youtube:https://www.youtube.com/watch?v=z0gguhEmWiY\n",
      "\n",
      "\n",
      "Python Multiprocessing Tutorial: Run Code in Parallel Using the Multiprocessing Module\n",
      "\n",
      "In this Python Programming video, we will be learning how to run code in parallel using the multiprocessing module. We will also look at how to process multiple high-resolution images at the same time using a ProcessPoolExecutor from the concurrent.futures module. Let’s get started…\n",
      "\n",
      "Youtube:https://www.youtube.com/watch?v=z0gguhEmWiY\n",
      "\n",
      "\n",
      "Python Threading Tutorial: Run Code Concurrently Using the Threading Module\n",
      "\n",
      "In this Python Programming video, we will be learning how to run threads concurrently using the threading module. We will also look at how to download multiple high-resolution images online using a ThreadPoolExecutor from the concurrent.futures module. Let’s get started…\n",
      "\n",
      "Youtube:https://www.youtube.com/watch?v=z0gguhEmWiY\n",
      "\n",
      "\n",
      "Update (2019-09-03)\n",
      "\n",
      "Hey everyone. I wanted to give you an update on my videos. I will be releasing videos on threading and multiprocessing within the next week. Thanks so much for your patience. I currently have a temporary recording studio setup at my Airbnb that will allow me to record and edit the threading/multiprocessing videos. I am going to be moving into my new house in 10 days and once I have my recording studio setup then you can expect much faster video releases. I really appreciate how patient everyone has been while I go through this move, especially those of you who are contributing monthly through YouTube \n",
      "\n",
      "Youtube:https://www.youtube.com/watch?v=z0gguhEmWiY\n",
      "\n",
      "\n",
      "Python Quick Tip: The Difference Between “==” and “is” (Equality vs Identity)\n",
      "\n",
      "In this Python Programming Tutorial, we will be learning the difference between using “==” and the “is” keyword when doing comparisons. The difference between these is that “==” checks to see if values are equal, and the “is” keyword checks their identity, which means it’s going to check if the values are identical in terms of being the same object in memory. We’ll learn more in the video. Let’s get started…\n",
      "\n",
      "Youtube:https://www.youtube.com/watch?v=z0gguhEmWiY\n",
      "\n",
      "\n",
      "Python Tutorial: Calling External Commands Using the Subprocess Module\n",
      "\n",
      "In this Python Programming Tutorial, we will be learning how to run external commands using the subprocess module from the standard library. We will learn how to run commands, capture the output, handle errors, and also how to pipe output into other commands. Let’s get started…\n",
      "\n",
      "Youtube:https://www.youtube.com/watch?v=z0gguhEmWiY\n",
      "\n",
      "\n",
      "Visual Studio Code (Windows) – Setting up a Python Development Environment and Complete Overview\n",
      "\n",
      "In this Python Programming Tutorial, we will be learning how to set up a Python development environment in VSCode on Windows. VSCode is a very nice free editor for writing Python applications and many developers are now switching over to this editor. In this video, we will learn how to install VSCode, get the Python extension installed, how to change Python interpreters, create virtual environments, format/lint our code, how to use Git within VSCode, how to debug our programs, how unit testing works, and more. We have a lot to cover, so let’s go ahead and get started…\n",
      "\n",
      "Youtube:https://www.youtube.com/watch?v=z0gguhEmWiY\n",
      "\n",
      "\n",
      "Visual Studio Code (Mac) – Setting up a Python Development Environment and Complete Overview\n",
      "\n",
      "In this Python Programming Tutorial, we will be learning how to set up a Python development environment in VSCode on MacOS. VSCode is a very nice free editor for writing Python applications and many developers are now switching over to this editor. In this video, we will learn how to install VSCode, get the Python extension installed, how to change Python interpreters, create virtual environments, format/lint our code, how to use Git within VSCode, how to debug our programs, how unit testing works, and more. We have a lot to cover, so let’s go ahead and get started…\n",
      "\n",
      "Youtube:https://www.youtube.com/watch?v=z0gguhEmWiY\n",
      "\n",
      "\n",
      "Clarifying the Issues with Mutable Default Arguments\n",
      "\n",
      "In this Python Programming Tutorial, we will be clarifying the issues with mutable default arguments. We discussed this in my last video titled “5 Common Python Mistakes and How to Fix Them”, but I received many comments from people who were still confused. So we will be doing a deeper dive to explain exactly what is going on here. Let’s get started…\n",
      "\n",
      "Youtube:https://www.youtube.com/watch?v=z0gguhEmWiY\n",
      "\n",
      "\n"
     ]
    }
   ],
   "source": [
    "for article in soup.find_all('article'):\n",
    "    headline=article.h2.a.text\n",
    "    print(headline)\n",
    "    print('')\n",
    "    summary=article.find('div',class_='entry-content').p.text\n",
    "    print(summary)\n",
    "    print('')\n",
    "    video_src=soup.find('iframe',class_='youtube-player')['src']\n",
    "    vid_id=video_src.split('/')[4]\n",
    "    vid_id=vid_id.split('?')[0]\n",
    "    yt_link=f'https://www.youtube.com/watch?v={vid_id}'\n",
    "    print('Youtube:'+ yt_link)\n",
    "    print('')\n",
    "    print('')\n",
    "    csv_writer.writerow([headline,summary,yt_link])\n",
    "csv_file.close()"
   ]
  },
  {
   "cell_type": "code",
   "execution_count": 87,
   "id": "abc8477d",
   "metadata": {},
   "outputs": [],
   "source": [
    "# if there is some missing data then\n",
    "# try:\n",
    "#     video_src=soup.find('iframe',class_='youtube-player')['src']\n",
    "#     vid_id=video_src.split('/')[4]\n",
    "#     vid_id=vid_id.split('?')[0]\n",
    "#     yt_link=f'https://www.youtube.com/watch?v={vid_id}'\n",
    "# except Exception as e:\n",
    "#     yt_link=None\n",
    "#to comment all press ctrl + / combination"
   ]
  },
  {
   "cell_type": "code",
   "execution_count": 91,
   "id": "ca75006e",
   "metadata": {},
   "outputs": [
    {
     "data": {
      "text/plain": [
       "29"
      ]
     },
     "execution_count": 91,
     "metadata": {},
     "output_type": "execute_result"
    }
   ],
   "source": [
    "csv_file = open('rongon.csv','w')\n",
    "csv_writer=csv.writer(csv_file)\n",
    "csv_writer.writerow(['Headline','Summary','Video_link'])"
   ]
  },
  {
   "cell_type": "code",
   "execution_count": null,
   "id": "ae2c2b98",
   "metadata": {},
   "outputs": [],
   "source": []
  },
  {
   "cell_type": "code",
   "execution_count": null,
   "id": "e082f5db",
   "metadata": {},
   "outputs": [],
   "source": []
  }
 ],
 "metadata": {
  "kernelspec": {
   "display_name": "Python 3",
   "language": "python",
   "name": "python3"
  },
  "language_info": {
   "codemirror_mode": {
    "name": "ipython",
    "version": 3
   },
   "file_extension": ".py",
   "mimetype": "text/x-python",
   "name": "python",
   "nbconvert_exporter": "python",
   "pygments_lexer": "ipython3",
   "version": "3.8.8"
  }
 },
 "nbformat": 4,
 "nbformat_minor": 5
}
